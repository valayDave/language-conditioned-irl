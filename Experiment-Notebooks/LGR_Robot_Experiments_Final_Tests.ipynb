{
  "nbformat": 4,
  "nbformat_minor": 0,
  "metadata": {
    "accelerator": "GPU",
    "colab": {
      "name": "LGR-Robot-Experiments-Final-Tests.ipynb",
      "provenance": [],
      "collapsed_sections": [
        "Sux7XfAIoOKb",
        "99mbOXu47GA7",
        "ZYpYb2Mq7Uf1",
        "ML2ltx5u6bfK"
      ],
      "toc_visible": true,
      "machine_shape": "hm"
    },
    "kernelspec": {
      "display_name": "Python 3",
      "name": "python3"
    },
    "widgets": {
      "application/vnd.jupyter.widget-state+json": {
        "92ff2b3d46be41c687b6ebaacc3a2b12": {
          "model_module": "@jupyter-widgets/controls",
          "model_name": "HBoxModel",
          "state": {
            "_view_name": "HBoxView",
            "_dom_classes": [],
            "_model_name": "HBoxModel",
            "_view_module": "@jupyter-widgets/controls",
            "_model_module_version": "1.5.0",
            "_view_count": null,
            "_view_module_version": "1.5.0",
            "box_style": "",
            "layout": "IPY_MODEL_1698ce603eee4841be074e544dddee81",
            "_model_module": "@jupyter-widgets/controls",
            "children": [
              "IPY_MODEL_ccdc404d2dd94f6d922da1bb48a2f293",
              "IPY_MODEL_cfddde2ba20f4f5e814d86d7ad64b7f1"
            ]
          }
        },
        "1698ce603eee4841be074e544dddee81": {
          "model_module": "@jupyter-widgets/base",
          "model_name": "LayoutModel",
          "state": {
            "_view_name": "LayoutView",
            "grid_template_rows": null,
            "right": null,
            "justify_content": null,
            "_view_module": "@jupyter-widgets/base",
            "overflow": null,
            "_model_module_version": "1.2.0",
            "_view_count": null,
            "flex_flow": "row wrap",
            "width": "100%",
            "min_width": null,
            "border": null,
            "align_items": null,
            "bottom": null,
            "_model_module": "@jupyter-widgets/base",
            "top": null,
            "grid_column": null,
            "overflow_y": null,
            "overflow_x": null,
            "grid_auto_flow": null,
            "grid_area": null,
            "grid_template_columns": null,
            "flex": null,
            "_model_name": "LayoutModel",
            "justify_items": null,
            "grid_row": null,
            "max_height": null,
            "align_content": null,
            "visibility": null,
            "align_self": null,
            "height": null,
            "min_height": null,
            "padding": null,
            "grid_auto_rows": null,
            "grid_gap": null,
            "max_width": null,
            "order": null,
            "_view_module_version": "1.2.0",
            "grid_template_areas": null,
            "object_position": null,
            "object_fit": null,
            "grid_auto_columns": null,
            "margin": null,
            "display": "inline-flex",
            "left": null
          }
        },
        "ccdc404d2dd94f6d922da1bb48a2f293": {
          "model_module": "@jupyter-widgets/controls",
          "model_name": "FloatProgressModel",
          "state": {
            "_view_name": "ProgressView",
            "style": "IPY_MODEL_6ab68b6995834b45a2a434247cd88a8c",
            "_dom_classes": [],
            "description": "Validation sanity check: ",
            "_model_name": "FloatProgressModel",
            "bar_style": "info",
            "max": 0,
            "_view_module": "@jupyter-widgets/controls",
            "_model_module_version": "1.5.0",
            "value": 0,
            "_view_count": null,
            "_view_module_version": "1.5.0",
            "orientation": "horizontal",
            "min": 0,
            "description_tooltip": null,
            "_model_module": "@jupyter-widgets/controls",
            "layout": "IPY_MODEL_5d7783a4bb114a0db29478f42d32203e"
          }
        },
        "cfddde2ba20f4f5e814d86d7ad64b7f1": {
          "model_module": "@jupyter-widgets/controls",
          "model_name": "HTMLModel",
          "state": {
            "_view_name": "HTMLView",
            "style": "IPY_MODEL_5b74cd7125184a3c9e824004f3a26f4f",
            "_dom_classes": [],
            "description": "",
            "_model_name": "HTMLModel",
            "placeholder": "​",
            "_view_module": "@jupyter-widgets/controls",
            "_model_module_version": "1.5.0",
            "value": " 0/0 [00:00&lt;?, ?it/s]",
            "_view_count": null,
            "_view_module_version": "1.5.0",
            "description_tooltip": null,
            "_model_module": "@jupyter-widgets/controls",
            "layout": "IPY_MODEL_d5a439b9b5f8442884a67965faf2c90e"
          }
        },
        "6ab68b6995834b45a2a434247cd88a8c": {
          "model_module": "@jupyter-widgets/controls",
          "model_name": "ProgressStyleModel",
          "state": {
            "_view_name": "StyleView",
            "_model_name": "ProgressStyleModel",
            "description_width": "initial",
            "_view_module": "@jupyter-widgets/base",
            "_model_module_version": "1.5.0",
            "_view_count": null,
            "_view_module_version": "1.2.0",
            "bar_color": null,
            "_model_module": "@jupyter-widgets/controls"
          }
        },
        "5d7783a4bb114a0db29478f42d32203e": {
          "model_module": "@jupyter-widgets/base",
          "model_name": "LayoutModel",
          "state": {
            "_view_name": "LayoutView",
            "grid_template_rows": null,
            "right": null,
            "justify_content": null,
            "_view_module": "@jupyter-widgets/base",
            "overflow": null,
            "_model_module_version": "1.2.0",
            "_view_count": null,
            "flex_flow": null,
            "width": null,
            "min_width": null,
            "border": null,
            "align_items": null,
            "bottom": null,
            "_model_module": "@jupyter-widgets/base",
            "top": null,
            "grid_column": null,
            "overflow_y": null,
            "overflow_x": null,
            "grid_auto_flow": null,
            "grid_area": null,
            "grid_template_columns": null,
            "flex": "2",
            "_model_name": "LayoutModel",
            "justify_items": null,
            "grid_row": null,
            "max_height": null,
            "align_content": null,
            "visibility": null,
            "align_self": null,
            "height": null,
            "min_height": null,
            "padding": null,
            "grid_auto_rows": null,
            "grid_gap": null,
            "max_width": null,
            "order": null,
            "_view_module_version": "1.2.0",
            "grid_template_areas": null,
            "object_position": null,
            "object_fit": null,
            "grid_auto_columns": null,
            "margin": null,
            "display": null,
            "left": null
          }
        },
        "5b74cd7125184a3c9e824004f3a26f4f": {
          "model_module": "@jupyter-widgets/controls",
          "model_name": "DescriptionStyleModel",
          "state": {
            "_view_name": "StyleView",
            "_model_name": "DescriptionStyleModel",
            "description_width": "",
            "_view_module": "@jupyter-widgets/base",
            "_model_module_version": "1.5.0",
            "_view_count": null,
            "_view_module_version": "1.2.0",
            "_model_module": "@jupyter-widgets/controls"
          }
        },
        "d5a439b9b5f8442884a67965faf2c90e": {
          "model_module": "@jupyter-widgets/base",
          "model_name": "LayoutModel",
          "state": {
            "_view_name": "LayoutView",
            "grid_template_rows": null,
            "right": null,
            "justify_content": null,
            "_view_module": "@jupyter-widgets/base",
            "overflow": null,
            "_model_module_version": "1.2.0",
            "_view_count": null,
            "flex_flow": null,
            "width": null,
            "min_width": null,
            "border": null,
            "align_items": null,
            "bottom": null,
            "_model_module": "@jupyter-widgets/base",
            "top": null,
            "grid_column": null,
            "overflow_y": null,
            "overflow_x": null,
            "grid_auto_flow": null,
            "grid_area": null,
            "grid_template_columns": null,
            "flex": null,
            "_model_name": "LayoutModel",
            "justify_items": null,
            "grid_row": null,
            "max_height": null,
            "align_content": null,
            "visibility": null,
            "align_self": null,
            "height": null,
            "min_height": null,
            "padding": null,
            "grid_auto_rows": null,
            "grid_gap": null,
            "max_width": null,
            "order": null,
            "_view_module_version": "1.2.0",
            "grid_template_areas": null,
            "object_position": null,
            "object_fit": null,
            "grid_auto_columns": null,
            "margin": null,
            "display": null,
            "left": null
          }
        },
        "25c68beb388b48e8a62dc343ac2a4c40": {
          "model_module": "@jupyter-widgets/controls",
          "model_name": "HBoxModel",
          "state": {
            "_view_name": "HBoxView",
            "_dom_classes": [],
            "_model_name": "HBoxModel",
            "_view_module": "@jupyter-widgets/controls",
            "_model_module_version": "1.5.0",
            "_view_count": null,
            "_view_module_version": "1.5.0",
            "box_style": "",
            "layout": "IPY_MODEL_5a0d8fd2f5f34b0998d5db3f5cfa1362",
            "_model_module": "@jupyter-widgets/controls",
            "children": [
              "IPY_MODEL_4b0c1c4ce64f4bada89801cb97ace4a3",
              "IPY_MODEL_e41cb5932cd8485e88243093f0315129"
            ]
          }
        },
        "5a0d8fd2f5f34b0998d5db3f5cfa1362": {
          "model_module": "@jupyter-widgets/base",
          "model_name": "LayoutModel",
          "state": {
            "_view_name": "LayoutView",
            "grid_template_rows": null,
            "right": null,
            "justify_content": null,
            "_view_module": "@jupyter-widgets/base",
            "overflow": null,
            "_model_module_version": "1.2.0",
            "_view_count": null,
            "flex_flow": "row wrap",
            "width": "100%",
            "min_width": null,
            "border": null,
            "align_items": null,
            "bottom": null,
            "_model_module": "@jupyter-widgets/base",
            "top": null,
            "grid_column": null,
            "overflow_y": null,
            "overflow_x": null,
            "grid_auto_flow": null,
            "grid_area": null,
            "grid_template_columns": null,
            "flex": null,
            "_model_name": "LayoutModel",
            "justify_items": null,
            "grid_row": null,
            "max_height": null,
            "align_content": null,
            "visibility": null,
            "align_self": null,
            "height": null,
            "min_height": null,
            "padding": null,
            "grid_auto_rows": null,
            "grid_gap": null,
            "max_width": null,
            "order": null,
            "_view_module_version": "1.2.0",
            "grid_template_areas": null,
            "object_position": null,
            "object_fit": null,
            "grid_auto_columns": null,
            "margin": null,
            "display": "inline-flex",
            "left": null
          }
        },
        "4b0c1c4ce64f4bada89801cb97ace4a3": {
          "model_module": "@jupyter-widgets/controls",
          "model_name": "FloatProgressModel",
          "state": {
            "_view_name": "ProgressView",
            "style": "IPY_MODEL_0c41caea796a417a93b930aad85da0a7",
            "_dom_classes": [],
            "description": "Epoch 8:  13%",
            "_model_name": "FloatProgressModel",
            "bar_style": "info",
            "max": 5386,
            "_view_module": "@jupyter-widgets/controls",
            "_model_module_version": "1.5.0",
            "value": 3775,
            "_view_count": null,
            "_view_module_version": "1.5.0",
            "orientation": "horizontal",
            "min": 0,
            "description_tooltip": null,
            "_model_module": "@jupyter-widgets/controls",
            "layout": "IPY_MODEL_12debfc9dfe0406baa734378a2fcd10d"
          }
        },
        "e41cb5932cd8485e88243093f0315129": {
          "model_module": "@jupyter-widgets/controls",
          "model_name": "HTMLModel",
          "state": {
            "_view_name": "HTMLView",
            "style": "IPY_MODEL_4d53b23ec6424220a174bed6c9369467",
            "_dom_classes": [],
            "description": "",
            "_model_name": "HTMLModel",
            "placeholder": "​",
            "_view_module": "@jupyter-widgets/controls",
            "_model_module_version": "1.5.0",
            "value": " 3775/5386 [1:05:58&lt;28:09,  1.05s/it, loss=0.419, v_num=-146]",
            "_view_count": null,
            "_view_module_version": "1.5.0",
            "description_tooltip": null,
            "_model_module": "@jupyter-widgets/controls",
            "layout": "IPY_MODEL_7f066db9cf044877a5d70a29f8ba1caf"
          }
        },
        "0c41caea796a417a93b930aad85da0a7": {
          "model_module": "@jupyter-widgets/controls",
          "model_name": "ProgressStyleModel",
          "state": {
            "_view_name": "StyleView",
            "_model_name": "ProgressStyleModel",
            "description_width": "initial",
            "_view_module": "@jupyter-widgets/base",
            "_model_module_version": "1.5.0",
            "_view_count": null,
            "_view_module_version": "1.2.0",
            "bar_color": null,
            "_model_module": "@jupyter-widgets/controls"
          }
        },
        "12debfc9dfe0406baa734378a2fcd10d": {
          "model_module": "@jupyter-widgets/base",
          "model_name": "LayoutModel",
          "state": {
            "_view_name": "LayoutView",
            "grid_template_rows": null,
            "right": null,
            "justify_content": null,
            "_view_module": "@jupyter-widgets/base",
            "overflow": null,
            "_model_module_version": "1.2.0",
            "_view_count": null,
            "flex_flow": null,
            "width": null,
            "min_width": null,
            "border": null,
            "align_items": null,
            "bottom": null,
            "_model_module": "@jupyter-widgets/base",
            "top": null,
            "grid_column": null,
            "overflow_y": null,
            "overflow_x": null,
            "grid_auto_flow": null,
            "grid_area": null,
            "grid_template_columns": null,
            "flex": "2",
            "_model_name": "LayoutModel",
            "justify_items": null,
            "grid_row": null,
            "max_height": null,
            "align_content": null,
            "visibility": null,
            "align_self": null,
            "height": null,
            "min_height": null,
            "padding": null,
            "grid_auto_rows": null,
            "grid_gap": null,
            "max_width": null,
            "order": null,
            "_view_module_version": "1.2.0",
            "grid_template_areas": null,
            "object_position": null,
            "object_fit": null,
            "grid_auto_columns": null,
            "margin": null,
            "display": null,
            "left": null
          }
        },
        "4d53b23ec6424220a174bed6c9369467": {
          "model_module": "@jupyter-widgets/controls",
          "model_name": "DescriptionStyleModel",
          "state": {
            "_view_name": "StyleView",
            "_model_name": "DescriptionStyleModel",
            "description_width": "",
            "_view_module": "@jupyter-widgets/base",
            "_model_module_version": "1.5.0",
            "_view_count": null,
            "_view_module_version": "1.2.0",
            "_model_module": "@jupyter-widgets/controls"
          }
        },
        "7f066db9cf044877a5d70a29f8ba1caf": {
          "model_module": "@jupyter-widgets/base",
          "model_name": "LayoutModel",
          "state": {
            "_view_name": "LayoutView",
            "grid_template_rows": null,
            "right": null,
            "justify_content": null,
            "_view_module": "@jupyter-widgets/base",
            "overflow": null,
            "_model_module_version": "1.2.0",
            "_view_count": null,
            "flex_flow": null,
            "width": null,
            "min_width": null,
            "border": null,
            "align_items": null,
            "bottom": null,
            "_model_module": "@jupyter-widgets/base",
            "top": null,
            "grid_column": null,
            "overflow_y": null,
            "overflow_x": null,
            "grid_auto_flow": null,
            "grid_area": null,
            "grid_template_columns": null,
            "flex": null,
            "_model_name": "LayoutModel",
            "justify_items": null,
            "grid_row": null,
            "max_height": null,
            "align_content": null,
            "visibility": null,
            "align_self": null,
            "height": null,
            "min_height": null,
            "padding": null,
            "grid_auto_rows": null,
            "grid_gap": null,
            "max_width": null,
            "order": null,
            "_view_module_version": "1.2.0",
            "grid_template_areas": null,
            "object_position": null,
            "object_fit": null,
            "grid_auto_columns": null,
            "margin": null,
            "display": null,
            "left": null
          }
        }
      }
    }
  },
  "cells": [
    {
      "cell_type": "markdown",
      "metadata": {
        "id": "Sux7XfAIoOKb"
      },
      "source": [
        "# COPY MASSIVE DEMO DATA : ONLY DO THIS ONCE!"
      ]
    },
    {
      "cell_type": "markdown",
      "metadata": {
        "id": "WbVxwVKO88He"
      },
      "source": [
        "## Partitioned Saved Daata"
      ]
    },
    {
      "cell_type": "code",
      "metadata": {
        "id": "UI51vG-OtnJq",
        "colab": {
          "base_uri": "https://localhost:8080/"
        },
        "outputId": "fdb729bb-2ff0-4c46-9c79-b7accdcb16c2"
      },
      "source": [
        "!ls /content/drive/MyDrive/ASU/Language-Rewards/NeurIPS-Dataset-Shortcut/NeurIPS-Dataset/"
      ],
      "execution_count": null,
      "outputs": [
        {
          "output_type": "stream",
          "text": [
            "0gnAQ6879MG_UR5.json  Nxr7390WBGL_UR5.json\n",
            "0gnAQKWAgmK_UR5.json  Nxr7398BKL2_UR5.json\n",
            "0gnAQQM0VEv_UR5.json  Nxr74AWlqoz_UR5.json\n",
            "0gnAQz3gBDv_UR5.json  Nxr74N3WGnp_UR5.json\n",
            "1joVJw0KZyo_UR5.json  Nxr74zNgvJp_UR5.json\n",
            "2RpGK4wjLQ1_UR5.json  Nxr74zZ6gJ8_UR5.json\n",
            "2RpGKR4XJNP_UR5.json  nZAGKpxp8MY_UR5.json\n",
            "2RpGVjNAZPv_UR5.json  nZAGKy09k1l_UR5.json\n",
            "2RpGVzDvM7v_UR5.json  nZAGw5B3YjE_UR5.json\n",
            "3lqYW4MMzpx_UR5.json  nZAGwGE6nY7_UR5.json\n",
            "3lqYWMoM1On_UR5.json  nZAGwgMPvx7_UR5.json\n",
            "48rWMR4KxO0_UR5.json  nZAGwGw18Wp_UR5.json\n",
            "48rWMzgQ5O1_UR5.json  O7vJ44GG0kp_UR5.json\n",
            "48rWXXD880V_UR5.json  O7vJ4B9Jz6G_UR5.json\n",
            "48rWXZj3rwg_UR5.json  OC-LGR-Robo-Pure-Contrastive-dataset-3\n",
            "58vANLyKMNX_UR5.json  oYBAL3A8WmB_UR5.json\n",
            "58vAYNZqxQq_UR5.json  oYBALDGORjL_UR5.json\n",
            "58vAYYKA9GZ_UR5.json  oYBALNVNwmK_UR5.json\n",
            "66wYORYJXpR_UR5.json  oYBALpnQYy3_UR5.json\n",
            "66wYZQ331zR_UR5.json  oYBALqVExXz_UR5.json\n",
            "76xD44M3VyG_UR5.json  oYBALxr5MnX_UR5.json\n",
            "76xD45pQDR8_UR5.json  oYBAx63VW3j_UR5.json\n",
            "76xD4KJ3Oo1_UR5.json  oYBAxQvJyQY_UR5.json\n",
            "76xDPnxPGWr_UR5.json  oYBAxv9y53z_UR5.json\n",
            "8qyX45M7xoj_UR5.json  P1w635XZxOA_UR5.json\n",
            "8qyX4GB6BZj_UR5.json  P1w6379v81W_UR5.json\n",
            "8qyX4k4XAW5_UR5.json  P1w63jD65g4_UR5.json\n",
            "8qyX4pN2o2l_UR5.json  P1w63MVMV1l_UR5.json\n",
            "8qyX4VRRyx5_UR5.json  P1w642ZBVz6_UR5.json\n",
            "8qyXQBwKW9r_UR5.json  P1w64ywD9w2_UR5.json\n",
            "8qyXQE1ER0W_UR5.json  pgD9M1443y2_UR5.json\n",
            "98z301vE1VP_UR5.json  pgD9MApYynm_UR5.json\n",
            "98z3023NzOY_UR5.json  pgD9y8nnYE6_UR5.json\n",
            "98z30rqxQBP_UR5.json  pgD9y90PG8Q_UR5.json\n",
            "98z340Mwv38_UR5.json  pgD9y91x1lQ_UR5.json\n",
            "98z34JgKJOD_UR5.json  pgD9ywAJnEX_UR5.json\n",
            "98z34RLkzYz_UR5.json  pgD9yzVNROQ_UR5.json\n",
            "98z34xD6q13_UR5.json  pgD9yzzN1NQ_UR5.json\n",
            "AnL838kGjG3_UR5.json  Q1xA4MD96Z5_UR5.json\n",
            "AnL83qZ6wRl_UR5.json  Q1xA96ZxQPG_UR5.json\n",
            "AnL84JN16qp_UR5.json  Q1xA9WVWVyq_UR5.json\n",
            "BgM13nOm06Q_UR5.json  qjEAzAy06P2_UR5.json\n",
            "BgM14kKDOpX_UR5.json  qjEAzQ3oY93_UR5.json\n",
            "BgM14ZAR7YX_UR5.json  r0GgA2OJ5OK_UR5.json\n",
            "chunk_meta\t      r0GgA980DDE_UR5.json\n",
            "DROw31l0K3x_UR5.json  r0GgAEvKELK_UR5.json\n",
            "DROw3qgx7Pq_UR5.json  r0GgAkQAVG4_UR5.json\n",
            "DROw4z4XX2n_UR5.json  r0GgAZGv6x6_UR5.json\n",
            "ElgK4A4Yxy4_UR5.json  r0GgAZxYY34_UR5.json\n",
            "ElgK4JL687K_UR5.json  r0GgOKy57wW_UR5.json\n",
            "g5q7mJmwn7D_UR5.json  Rgy83l9Ervw_UR5.json\n",
            "g5q7mplmVg6_UR5.json  Rgy83ooQPY0_UR5.json\n",
            "g5q7mY41M53_UR5.json  Rgy893A01ZE_UR5.json\n",
            "g5q7z1ygOJ9_UR5.json  Rgy89Zv4XP0_UR5.json\n",
            "g5q7zAEq8Ak_UR5.json  test_demonstration.py\n",
            "g5q7zmjlGw3_UR5.json  ValayTest_1.tar.xz\n",
            "g5q7zRQ2QQr_UR5.json  vgMmGlrYNKV_UR5.json\n",
            "g5q7zzDYml9_UR5.json  vgMmV0MK2BV_UR5.json\n",
            "GZkw3vrpDNJ_UR5.json  vgMmVWrBX7n_UR5.json\n",
            "GZkw41QgnW5_UR5.json  Video-OC-LGR-Robo-Pure-Contrastive-dataset-3\n",
            "GZkw41YXMB0_UR5.json  Video-OC-LGR-Robo-Pure-Contrastive-dataset-4\n",
            "GZkw44x8nD5_UR5.json  Video-OC-LGR-Robo-Pure-Contrastive-dataset-5\n",
            "GZkw4y70PK7_UR5.json  Video-OC-LGR-Robo-Pure-Contrastive-dataset-7\n",
            "j2wAD1zz0Mv_UR5.json  VmDJ3Og3zPz_UR5.json\n",
            "j2wAD46o0K4_UR5.json  VmDJ63DJk8W_UR5.json\n",
            "j2wAD7glzr4_UR5.json  VmDJ662k76W_UR5.json\n",
            "j2wAp8R8V3P_UR5.json  VmDJ6BQp54O_UR5.json\n",
            "j2wApAXDmK5_UR5.json  VmDJ6MZp9AX_UR5.json\n",
            "JZnE3Ykxk42_UR5.json  wjNnJkZqBpX_UR5.json\n",
            "k5x6q63MzpE_UR5.json  wjNnWLNELRr_UR5.json\n",
            "k5x6qojk79Y_UR5.json  WnEW43r3Qon_UR5.json\n",
            "k5x6qQ4Om1K_UR5.json  X6GY4WgxBAg_UR5.json\n",
            "KOoA3Y2PjvY_UR5.json  X6GY8L0jBAv_UR5.json\n",
            "KOoA40p7GlY_UR5.json  xG0oKlovpkz_UR5.json\n",
            "LgpA4jnqEgX_UR5.json  xG0oXgROAV9_UR5.json\n",
            "LgpA4o8mr4X_UR5.json  xG0oXRqLXVn_UR5.json\n",
            "lOy8G4EW8B7_UR5.json  Y6JV373kWrA_UR5.json\n",
            "lOy8GqZorxr_UR5.json  Y6JV3vQYO0W_UR5.json\n",
            "lOy8rM6ZK5J_UR5.json  Y6JVgPq17vW_UR5.json\n",
            "lOy8rvW9VnM_UR5.json  y84pLJ0zopz_UR5.json\n",
            "main_meta.csv\t      y84pLJQO83n_UR5.json\n",
            "Mjq73ZL65JQ_UR5.json  y84pLoW8xyn_UR5.json\n",
            "Mjq74LDW8MR_UR5.json  y84pLrM8087_UR5.json\n",
            "Mjq74R65pAA_UR5.json  y84pYLg3j5W_UR5.json\n",
            "Mjq74vqA3om_UR5.json  Z4KZ7mk25qE_UR5.json\n",
            "mwz7J189899_UR5.json  Z4KZ7WXYOJJ_UR5.json\n",
            "mwz7Jl0OWLp_UR5.json  Z4KZjlVL70v_UR5.json\n",
            "mwz7Jlkn403_UR5.json  zm8qZ15rjYO_UR5.json\n",
            "mwz7JLYz8XA_UR5.json  zm8qZ2pvl47_UR5.json\n",
            "mwz7v2gP6N9_UR5.json  zm8qZGvWKMY_UR5.json\n",
            "mwz7vMAJGnE_UR5.json  zm8qZL04Eg8_UR5.json\n",
            "mwz7vR50JqO_UR5.json  zm8qZROxzLY_UR5.json\n",
            "Nxr730xmYG6_UR5.json\n"
          ],
          "name": "stdout"
        }
      ]
    },
    {
      "cell_type": "code",
      "metadata": {
        "id": "DiWyrGkT84r1"
      },
      "source": [
        "!cp -r /content/drive/MyDrive/ASU/Language-Rewards/NeurIPS-Dataset-Shortcut/NeurIPS-Dataset/Video-OC-LGR-Robo-Pure-Contrastive-dataset-7 Video-OC-LGR-Robo-Pure-Contrastive-dataset-7"
      ],
      "execution_count": null,
      "outputs": []
    },
    {
      "cell_type": "markdown",
      "metadata": {
        "id": "x0EImrDi66af"
      },
      "source": [
        "# WALL OF TEXT TO AVOIDD CLICKING COPY AGAIN\n",
        "# WALL OF TEXT TO AVOIDD CLICKING COPY AGAIN\n",
        "# WALL OF TEXT TO AVOIDD CLICKING COPY AGAIN"
      ]
    },
    {
      "cell_type": "markdown",
      "metadata": {
        "id": "99mbOXu47GA7"
      },
      "source": [
        "# Install Core Deps"
      ]
    },
    {
      "cell_type": "code",
      "metadata": {
        "id": "NiXCGNqq56KE"
      },
      "source": [],
      "execution_count": null,
      "outputs": []
    },
    {
      "cell_type": "code",
      "metadata": {
        "colab": {
          "base_uri": "https://localhost:8080/"
        },
        "id": "LV45QPPpUcoc",
        "outputId": "46d9e1d1-7a27-46ae-d395-22d6a0d66467"
      },
      "source": [
        "# Instaall repository\n",
        "# ! pip install --upgrade git+https://github.com/valayDave/language-conditioned-irl@robotics-experiments"
      ],
      "execution_count": null,
      "outputs": [
        {
          "output_type": "stream",
          "text": [
            "Collecting git+https://****@github.com/valayDave/language-conditioned-irl@robotics-experiments\n",
            "  Cloning https://****@github.com/valayDave/language-conditioned-irl (to revision robotics-experiments) to /tmp/pip-req-build-g9clw4ve\n",
            "  Running command git clone -q 'https://****@github.com/valayDave/language-conditioned-irl' /tmp/pip-req-build-g9clw4ve\n",
            "  Running command git checkout -b robotics-experiments --track origin/robotics-experiments\n",
            "  Switched to a new branch 'robotics-experiments'\n",
            "  Branch 'robotics-experiments' set up to track remote branch 'robotics-experiments' from 'origin'.\n",
            "Requirement already satisfied, skipping upgrade: transformers in /usr/local/lib/python3.7/dist-packages (from language-conditioned-rl==0.0.5) (4.6.1)\n",
            "Requirement already satisfied, skipping upgrade: pytorch-lightning==1.2.5 in /usr/local/lib/python3.7/dist-packages (from language-conditioned-rl==0.0.5) (1.2.5)\n",
            "Requirement already satisfied, skipping upgrade: einops in /usr/local/lib/python3.7/dist-packages (from language-conditioned-rl==0.0.5) (0.3.0)\n",
            "Requirement already satisfied, skipping upgrade: neptune-client in /usr/local/lib/python3.7/dist-packages (from language-conditioned-rl==0.0.5) (0.9.16)\n",
            "Requirement already satisfied, skipping upgrade: neptune-contrib in /usr/local/lib/python3.7/dist-packages (from language-conditioned-rl==0.0.5) (0.27.1)\n",
            "Requirement already satisfied, skipping upgrade: moviepy in /usr/local/lib/python3.7/dist-packages (from language-conditioned-rl==0.0.5) (0.2.3.5)\n",
            "Requirement already satisfied, skipping upgrade: h5py in /usr/local/lib/python3.7/dist-packages (from language-conditioned-rl==0.0.5) (3.1.0)\n",
            "Requirement already satisfied, skipping upgrade: gym in /usr/local/lib/python3.7/dist-packages (from language-conditioned-rl==0.0.5) (0.17.3)\n",
            "Requirement already satisfied, skipping upgrade: opencv-python in /usr/local/lib/python3.7/dist-packages (from language-conditioned-rl==0.0.5) (4.1.2.30)\n",
            "Requirement already satisfied, skipping upgrade: sklearn in /usr/local/lib/python3.7/dist-packages (from language-conditioned-rl==0.0.5) (0.0)\n",
            "Requirement already satisfied, skipping upgrade: click in /usr/local/lib/python3.7/dist-packages (from language-conditioned-rl==0.0.5) (7.1.2)\n",
            "Requirement already satisfied, skipping upgrade: numpy>=1.17 in /usr/local/lib/python3.7/dist-packages (from transformers->language-conditioned-rl==0.0.5) (1.19.5)\n",
            "Requirement already satisfied, skipping upgrade: requests in /usr/local/lib/python3.7/dist-packages (from transformers->language-conditioned-rl==0.0.5) (2.23.0)\n",
            "Requirement already satisfied, skipping upgrade: packaging in /usr/local/lib/python3.7/dist-packages (from transformers->language-conditioned-rl==0.0.5) (20.9)\n",
            "Requirement already satisfied, skipping upgrade: tokenizers<0.11,>=0.10.1 in /usr/local/lib/python3.7/dist-packages (from transformers->language-conditioned-rl==0.0.5) (0.10.3)\n",
            "Requirement already satisfied, skipping upgrade: regex!=2019.12.17 in /usr/local/lib/python3.7/dist-packages (from transformers->language-conditioned-rl==0.0.5) (2019.12.20)\n",
            "Requirement already satisfied, skipping upgrade: sacremoses in /usr/local/lib/python3.7/dist-packages (from transformers->language-conditioned-rl==0.0.5) (0.0.45)\n",
            "Requirement already satisfied, skipping upgrade: importlib-metadata; python_version < \"3.8\" in /usr/local/lib/python3.7/dist-packages (from transformers->language-conditioned-rl==0.0.5) (4.0.1)\n",
            "Requirement already satisfied, skipping upgrade: huggingface-hub==0.0.8 in /usr/local/lib/python3.7/dist-packages (from transformers->language-conditioned-rl==0.0.5) (0.0.8)\n",
            "Requirement already satisfied, skipping upgrade: filelock in /usr/local/lib/python3.7/dist-packages (from transformers->language-conditioned-rl==0.0.5) (3.0.12)\n",
            "Requirement already satisfied, skipping upgrade: tqdm>=4.27 in /usr/local/lib/python3.7/dist-packages (from transformers->language-conditioned-rl==0.0.5) (4.41.1)\n",
            "Requirement already satisfied, skipping upgrade: torchmetrics>=0.2.0 in /usr/local/lib/python3.7/dist-packages (from pytorch-lightning==1.2.5->language-conditioned-rl==0.0.5) (0.3.2)\n",
            "Requirement already satisfied, skipping upgrade: tensorboard>=2.2.0 in /usr/local/lib/python3.7/dist-packages (from pytorch-lightning==1.2.5->language-conditioned-rl==0.0.5) (2.5.0)\n",
            "Requirement already satisfied, skipping upgrade: PyYAML!=5.4.*,>=5.1 in /usr/local/lib/python3.7/dist-packages (from pytorch-lightning==1.2.5->language-conditioned-rl==0.0.5) (5.3.1)\n",
            "Requirement already satisfied, skipping upgrade: future>=0.17.1 in /usr/local/lib/python3.7/dist-packages (from pytorch-lightning==1.2.5->language-conditioned-rl==0.0.5) (0.18.2)\n",
            "Requirement already satisfied, skipping upgrade: torch>=1.4 in /usr/local/lib/python3.7/dist-packages (from pytorch-lightning==1.2.5->language-conditioned-rl==0.0.5) (1.8.1+cu101)\n",
            "Requirement already satisfied, skipping upgrade: fsspec[http]>=0.8.1 in /usr/local/lib/python3.7/dist-packages (from pytorch-lightning==1.2.5->language-conditioned-rl==0.0.5) (2021.5.0)\n",
            "Requirement already satisfied, skipping upgrade: requests-oauthlib>=1.0.0 in /usr/local/lib/python3.7/dist-packages (from neptune-client->language-conditioned-rl==0.0.5) (1.3.0)\n",
            "Requirement already satisfied, skipping upgrade: websocket-client!=1.0.0,>=0.35.0 in /usr/local/lib/python3.7/dist-packages (from neptune-client->language-conditioned-rl==0.0.5) (1.0.1)\n",
            "Requirement already satisfied, skipping upgrade: Pillow>=1.1.6 in /usr/local/lib/python3.7/dist-packages (from neptune-client->language-conditioned-rl==0.0.5) (7.1.2)\n",
            "Requirement already satisfied, skipping upgrade: PyJWT in /usr/local/lib/python3.7/dist-packages (from neptune-client->language-conditioned-rl==0.0.5) (2.1.0)\n",
            "Requirement already satisfied, skipping upgrade: bravado in /usr/local/lib/python3.7/dist-packages (from neptune-client->language-conditioned-rl==0.0.5) (11.0.3)\n",
            "Requirement already satisfied, skipping upgrade: oauthlib>=2.1.0 in /usr/local/lib/python3.7/dist-packages (from neptune-client->language-conditioned-rl==0.0.5) (3.1.0)\n",
            "Requirement already satisfied, skipping upgrade: pandas in /usr/local/lib/python3.7/dist-packages (from neptune-client->language-conditioned-rl==0.0.5) (1.1.5)\n",
            "Requirement already satisfied, skipping upgrade: GitPython>=2.0.8 in /usr/local/lib/python3.7/dist-packages (from neptune-client->language-conditioned-rl==0.0.5) (3.1.17)\n",
            "Requirement already satisfied, skipping upgrade: six>=1.12.0 in /usr/local/lib/python3.7/dist-packages (from neptune-client->language-conditioned-rl==0.0.5) (1.15.0)\n",
            "Requirement already satisfied, skipping upgrade: urllib3 in /usr/local/lib/python3.7/dist-packages (from neptune-client->language-conditioned-rl==0.0.5) (1.24.3)\n",
            "Requirement already satisfied, skipping upgrade: attrdict>=2.0.0 in /usr/local/lib/python3.7/dist-packages (from neptune-contrib->language-conditioned-rl==0.0.5) (2.0.1)\n",
            "Requirement already satisfied, skipping upgrade: matplotlib in /usr/local/lib/python3.7/dist-packages (from neptune-contrib->language-conditioned-rl==0.0.5) (3.2.2)\n",
            "Requirement already satisfied, skipping upgrade: joblib>=0.13 in /usr/local/lib/python3.7/dist-packages (from neptune-contrib->language-conditioned-rl==0.0.5) (1.0.1)\n",
            "Requirement already satisfied, skipping upgrade: decorator<5.0,>=4.0.2 in /usr/local/lib/python3.7/dist-packages (from moviepy->language-conditioned-rl==0.0.5) (4.4.2)\n",
            "Requirement already satisfied, skipping upgrade: imageio<3.0,>=2.1.2 in /usr/local/lib/python3.7/dist-packages (from moviepy->language-conditioned-rl==0.0.5) (2.4.1)\n",
            "Requirement already satisfied, skipping upgrade: cached-property; python_version < \"3.8\" in /usr/local/lib/python3.7/dist-packages (from h5py->language-conditioned-rl==0.0.5) (1.5.2)\n",
            "Requirement already satisfied, skipping upgrade: scipy in /usr/local/lib/python3.7/dist-packages (from gym->language-conditioned-rl==0.0.5) (1.4.1)\n",
            "Requirement already satisfied, skipping upgrade: pyglet<=1.5.0,>=1.4.0 in /usr/local/lib/python3.7/dist-packages (from gym->language-conditioned-rl==0.0.5) (1.5.0)\n",
            "Requirement already satisfied, skipping upgrade: cloudpickle<1.7.0,>=1.2.0 in /usr/local/lib/python3.7/dist-packages (from gym->language-conditioned-rl==0.0.5) (1.3.0)\n",
            "Requirement already satisfied, skipping upgrade: scikit-learn in /usr/local/lib/python3.7/dist-packages (from sklearn->language-conditioned-rl==0.0.5) (0.22.2.post1)\n",
            "Requirement already satisfied, skipping upgrade: certifi>=2017.4.17 in /usr/local/lib/python3.7/dist-packages (from requests->transformers->language-conditioned-rl==0.0.5) (2020.12.5)\n",
            "Requirement already satisfied, skipping upgrade: idna<3,>=2.5 in /usr/local/lib/python3.7/dist-packages (from requests->transformers->language-conditioned-rl==0.0.5) (2.10)\n",
            "Requirement already satisfied, skipping upgrade: chardet<4,>=3.0.2 in /usr/local/lib/python3.7/dist-packages (from requests->transformers->language-conditioned-rl==0.0.5) (3.0.4)\n",
            "Requirement already satisfied, skipping upgrade: pyparsing>=2.0.2 in /usr/local/lib/python3.7/dist-packages (from packaging->transformers->language-conditioned-rl==0.0.5) (2.4.7)\n",
            "Requirement already satisfied, skipping upgrade: zipp>=0.5 in /usr/local/lib/python3.7/dist-packages (from importlib-metadata; python_version < \"3.8\"->transformers->language-conditioned-rl==0.0.5) (3.4.1)\n",
            "Requirement already satisfied, skipping upgrade: typing-extensions>=3.6.4; python_version < \"3.8\" in /usr/local/lib/python3.7/dist-packages (from importlib-metadata; python_version < \"3.8\"->transformers->language-conditioned-rl==0.0.5) (3.7.4.3)\n",
            "Requirement already satisfied, skipping upgrade: google-auth-oauthlib<0.5,>=0.4.1 in /usr/local/lib/python3.7/dist-packages (from tensorboard>=2.2.0->pytorch-lightning==1.2.5->language-conditioned-rl==0.0.5) (0.4.4)\n",
            "Requirement already satisfied, skipping upgrade: google-auth<2,>=1.6.3 in /usr/local/lib/python3.7/dist-packages (from tensorboard>=2.2.0->pytorch-lightning==1.2.5->language-conditioned-rl==0.0.5) (1.30.0)\n",
            "Requirement already satisfied, skipping upgrade: werkzeug>=0.11.15 in /usr/local/lib/python3.7/dist-packages (from tensorboard>=2.2.0->pytorch-lightning==1.2.5->language-conditioned-rl==0.0.5) (1.0.1)\n",
            "Requirement already satisfied, skipping upgrade: absl-py>=0.4 in /usr/local/lib/python3.7/dist-packages (from tensorboard>=2.2.0->pytorch-lightning==1.2.5->language-conditioned-rl==0.0.5) (0.12.0)\n",
            "Requirement already satisfied, skipping upgrade: grpcio>=1.24.3 in /usr/local/lib/python3.7/dist-packages (from tensorboard>=2.2.0->pytorch-lightning==1.2.5->language-conditioned-rl==0.0.5) (1.34.1)\n",
            "Requirement already satisfied, skipping upgrade: setuptools>=41.0.0 in /usr/local/lib/python3.7/dist-packages (from tensorboard>=2.2.0->pytorch-lightning==1.2.5->language-conditioned-rl==0.0.5) (57.0.0)\n",
            "Requirement already satisfied, skipping upgrade: tensorboard-plugin-wit>=1.6.0 in /usr/local/lib/python3.7/dist-packages (from tensorboard>=2.2.0->pytorch-lightning==1.2.5->language-conditioned-rl==0.0.5) (1.8.0)\n",
            "Requirement already satisfied, skipping upgrade: markdown>=2.6.8 in /usr/local/lib/python3.7/dist-packages (from tensorboard>=2.2.0->pytorch-lightning==1.2.5->language-conditioned-rl==0.0.5) (3.3.4)\n",
            "Requirement already satisfied, skipping upgrade: tensorboard-data-server<0.7.0,>=0.6.0 in /usr/local/lib/python3.7/dist-packages (from tensorboard>=2.2.0->pytorch-lightning==1.2.5->language-conditioned-rl==0.0.5) (0.6.1)\n",
            "Requirement already satisfied, skipping upgrade: protobuf>=3.6.0 in /usr/local/lib/python3.7/dist-packages (from tensorboard>=2.2.0->pytorch-lightning==1.2.5->language-conditioned-rl==0.0.5) (3.12.4)\n",
            "Requirement already satisfied, skipping upgrade: wheel>=0.26; python_version >= \"3\" in /usr/local/lib/python3.7/dist-packages (from tensorboard>=2.2.0->pytorch-lightning==1.2.5->language-conditioned-rl==0.0.5) (0.36.2)\n",
            "Requirement already satisfied, skipping upgrade: aiohttp; extra == \"http\" in /usr/local/lib/python3.7/dist-packages (from fsspec[http]>=0.8.1->pytorch-lightning==1.2.5->language-conditioned-rl==0.0.5) (3.7.4.post0)\n",
            "Requirement already satisfied, skipping upgrade: simplejson in /usr/local/lib/python3.7/dist-packages (from bravado->neptune-client->language-conditioned-rl==0.0.5) (3.17.2)\n",
            "Requirement already satisfied, skipping upgrade: monotonic in /usr/local/lib/python3.7/dist-packages (from bravado->neptune-client->language-conditioned-rl==0.0.5) (1.6)\n",
            "Requirement already satisfied, skipping upgrade: msgpack in /usr/local/lib/python3.7/dist-packages (from bravado->neptune-client->language-conditioned-rl==0.0.5) (1.0.2)\n",
            "Requirement already satisfied, skipping upgrade: bravado-core>=5.16.1 in /usr/local/lib/python3.7/dist-packages (from bravado->neptune-client->language-conditioned-rl==0.0.5) (5.17.0)\n",
            "Requirement already satisfied, skipping upgrade: python-dateutil in /usr/local/lib/python3.7/dist-packages (from bravado->neptune-client->language-conditioned-rl==0.0.5) (2.8.1)\n",
            "Requirement already satisfied, skipping upgrade: pytz>=2017.2 in /usr/local/lib/python3.7/dist-packages (from pandas->neptune-client->language-conditioned-rl==0.0.5) (2018.9)\n",
            "Requirement already satisfied, skipping upgrade: gitdb<5,>=4.0.1 in /usr/local/lib/python3.7/dist-packages (from GitPython>=2.0.8->neptune-client->language-conditioned-rl==0.0.5) (4.0.7)\n",
            "Requirement already satisfied, skipping upgrade: cycler>=0.10 in /usr/local/lib/python3.7/dist-packages (from matplotlib->neptune-contrib->language-conditioned-rl==0.0.5) (0.10.0)\n",
            "Requirement already satisfied, skipping upgrade: kiwisolver>=1.0.1 in /usr/local/lib/python3.7/dist-packages (from matplotlib->neptune-contrib->language-conditioned-rl==0.0.5) (1.3.1)\n",
            "Requirement already satisfied, skipping upgrade: pyasn1-modules>=0.2.1 in /usr/local/lib/python3.7/dist-packages (from google-auth<2,>=1.6.3->tensorboard>=2.2.0->pytorch-lightning==1.2.5->language-conditioned-rl==0.0.5) (0.2.8)\n",
            "Requirement already satisfied, skipping upgrade: cachetools<5.0,>=2.0.0 in /usr/local/lib/python3.7/dist-packages (from google-auth<2,>=1.6.3->tensorboard>=2.2.0->pytorch-lightning==1.2.5->language-conditioned-rl==0.0.5) (4.2.2)\n",
            "Requirement already satisfied, skipping upgrade: rsa<5,>=3.1.4; python_version >= \"3.6\" in /usr/local/lib/python3.7/dist-packages (from google-auth<2,>=1.6.3->tensorboard>=2.2.0->pytorch-lightning==1.2.5->language-conditioned-rl==0.0.5) (4.7.2)\n",
            "Requirement already satisfied, skipping upgrade: attrs>=17.3.0 in /usr/local/lib/python3.7/dist-packages (from aiohttp; extra == \"http\"->fsspec[http]>=0.8.1->pytorch-lightning==1.2.5->language-conditioned-rl==0.0.5) (21.2.0)\n",
            "Requirement already satisfied, skipping upgrade: multidict<7.0,>=4.5 in /usr/local/lib/python3.7/dist-packages (from aiohttp; extra == \"http\"->fsspec[http]>=0.8.1->pytorch-lightning==1.2.5->language-conditioned-rl==0.0.5) (5.1.0)\n",
            "Requirement already satisfied, skipping upgrade: async-timeout<4.0,>=3.0 in /usr/local/lib/python3.7/dist-packages (from aiohttp; extra == \"http\"->fsspec[http]>=0.8.1->pytorch-lightning==1.2.5->language-conditioned-rl==0.0.5) (3.0.1)\n",
            "Requirement already satisfied, skipping upgrade: yarl<2.0,>=1.0 in /usr/local/lib/python3.7/dist-packages (from aiohttp; extra == \"http\"->fsspec[http]>=0.8.1->pytorch-lightning==1.2.5->language-conditioned-rl==0.0.5) (1.6.3)\n",
            "Requirement already satisfied, skipping upgrade: jsonref in /usr/local/lib/python3.7/dist-packages (from bravado-core>=5.16.1->bravado->neptune-client->language-conditioned-rl==0.0.5) (0.2)\n",
            "Requirement already satisfied, skipping upgrade: swagger-spec-validator>=2.0.1 in /usr/local/lib/python3.7/dist-packages (from bravado-core>=5.16.1->bravado->neptune-client->language-conditioned-rl==0.0.5) (2.7.3)\n",
            "Requirement already satisfied, skipping upgrade: jsonschema[format]>=2.5.1 in /usr/local/lib/python3.7/dist-packages (from bravado-core>=5.16.1->bravado->neptune-client->language-conditioned-rl==0.0.5) (2.6.0)\n",
            "Requirement already satisfied, skipping upgrade: smmap<5,>=3.0.1 in /usr/local/lib/python3.7/dist-packages (from gitdb<5,>=4.0.1->GitPython>=2.0.8->neptune-client->language-conditioned-rl==0.0.5) (4.0.0)\n",
            "Requirement already satisfied, skipping upgrade: pyasn1<0.5.0,>=0.4.6 in /usr/local/lib/python3.7/dist-packages (from pyasn1-modules>=0.2.1->google-auth<2,>=1.6.3->tensorboard>=2.2.0->pytorch-lightning==1.2.5->language-conditioned-rl==0.0.5) (0.4.8)\n",
            "Requirement already satisfied, skipping upgrade: rfc3987; extra == \"format\" in /usr/local/lib/python3.7/dist-packages (from jsonschema[format]>=2.5.1->bravado-core>=5.16.1->bravado->neptune-client->language-conditioned-rl==0.0.5) (1.3.8)\n",
            "Requirement already satisfied, skipping upgrade: strict-rfc3339; extra == \"format\" in /usr/local/lib/python3.7/dist-packages (from jsonschema[format]>=2.5.1->bravado-core>=5.16.1->bravado->neptune-client->language-conditioned-rl==0.0.5) (0.7)\n",
            "Requirement already satisfied, skipping upgrade: webcolors; extra == \"format\" in /usr/local/lib/python3.7/dist-packages (from jsonschema[format]>=2.5.1->bravado-core>=5.16.1->bravado->neptune-client->language-conditioned-rl==0.0.5) (1.11.1)\n",
            "Building wheels for collected packages: language-conditioned-rl\n",
            "  Building wheel for language-conditioned-rl (setup.py) ... \u001b[?25l\u001b[?25hdone\n",
            "  Created wheel for language-conditioned-rl: filename=language_conditioned_rl-0.0.5-cp37-none-any.whl size=120961 sha256=c4e3cee5088c524ca09a2360879c994427e79bdf28776ee83c626a9b0c928e73\n",
            "  Stored in directory: /tmp/pip-ephem-wheel-cache-ntbez_tk/wheels/ef/8d/39/26d4d0b37f86f1424b32edef638034ce38eff36fbbd662b901\n",
            "Successfully built language-conditioned-rl\n",
            "Installing collected packages: language-conditioned-rl\n",
            "  Found existing installation: language-conditioned-rl 0.0.5\n",
            "    Uninstalling language-conditioned-rl-0.0.5:\n",
            "      Successfully uninstalled language-conditioned-rl-0.0.5\n",
            "Successfully installed language-conditioned-rl-0.0.5\n"
          ],
          "name": "stdout"
        }
      ]
    },
    {
      "cell_type": "code",
      "metadata": {
        "colab": {
          "base_uri": "https://localhost:8080/"
        },
        "id": "ogoGsYQXxO79",
        "outputId": "e4ae9898-0900-45a0-dcac-428a395fbb6b"
      },
      "source": [
        "!pip uninstall -y torchtext"
      ],
      "execution_count": null,
      "outputs": [
        {
          "output_type": "stream",
          "text": [
            "\u001b[33mWARNING: Skipping torchtext as it is not installed.\u001b[0m\n"
          ],
          "name": "stdout"
        }
      ]
    },
    {
      "cell_type": "code",
      "metadata": {
        "colab": {
          "base_uri": "https://localhost:8080/"
        },
        "id": "4Sd5eM1yZhYr",
        "outputId": "e2e1b041-fb87-47b9-b6e2-059b71309370"
      },
      "source": [
        "!pip install metaflow h5py"
      ],
      "execution_count": null,
      "outputs": [
        {
          "output_type": "stream",
          "text": [
            "Requirement already satisfied: metaflow in /usr/local/lib/python3.7/dist-packages (2.3.0)\n",
            "Requirement already satisfied: h5py in /usr/local/lib/python3.7/dist-packages (3.1.0)\n",
            "Requirement already satisfied: boto3 in /usr/local/lib/python3.7/dist-packages (from metaflow) (1.17.88)\n",
            "Requirement already satisfied: click>=7.0 in /usr/local/lib/python3.7/dist-packages (from metaflow) (7.1.2)\n",
            "Requirement already satisfied: requests in /usr/local/lib/python3.7/dist-packages (from metaflow) (2.23.0)\n",
            "Requirement already satisfied: pylint in /usr/local/lib/python3.7/dist-packages (from metaflow) (2.8.3)\n",
            "Requirement already satisfied: numpy>=1.14.5; python_version == \"3.7\" in /usr/local/lib/python3.7/dist-packages (from h5py) (1.19.5)\n",
            "Requirement already satisfied: cached-property; python_version < \"3.8\" in /usr/local/lib/python3.7/dist-packages (from h5py) (1.5.2)\n",
            "Requirement already satisfied: botocore<1.21.0,>=1.20.88 in /usr/local/lib/python3.7/dist-packages (from boto3->metaflow) (1.20.88)\n",
            "Requirement already satisfied: s3transfer<0.5.0,>=0.4.0 in /usr/local/lib/python3.7/dist-packages (from boto3->metaflow) (0.4.2)\n",
            "Requirement already satisfied: jmespath<1.0.0,>=0.7.1 in /usr/local/lib/python3.7/dist-packages (from boto3->metaflow) (0.10.0)\n",
            "Requirement already satisfied: chardet<4,>=3.0.2 in /usr/local/lib/python3.7/dist-packages (from requests->metaflow) (3.0.4)\n",
            "Requirement already satisfied: idna<3,>=2.5 in /usr/local/lib/python3.7/dist-packages (from requests->metaflow) (2.10)\n",
            "Requirement already satisfied: urllib3!=1.25.0,!=1.25.1,<1.26,>=1.21.1 in /usr/local/lib/python3.7/dist-packages (from requests->metaflow) (1.24.3)\n",
            "Requirement already satisfied: certifi>=2017.4.17 in /usr/local/lib/python3.7/dist-packages (from requests->metaflow) (2020.12.5)\n",
            "Requirement already satisfied: mccabe<0.7,>=0.6 in /usr/local/lib/python3.7/dist-packages (from pylint->metaflow) (0.6.1)\n",
            "Requirement already satisfied: toml>=0.7.1 in /usr/local/lib/python3.7/dist-packages (from pylint->metaflow) (0.10.2)\n",
            "Requirement already satisfied: isort<6,>=4.2.5 in /usr/local/lib/python3.7/dist-packages (from pylint->metaflow) (5.8.0)\n",
            "Requirement already satisfied: astroid==2.5.6 in /usr/local/lib/python3.7/dist-packages (from pylint->metaflow) (2.5.6)\n",
            "Requirement already satisfied: python-dateutil<3.0.0,>=2.1 in /usr/local/lib/python3.7/dist-packages (from botocore<1.21.0,>=1.20.88->boto3->metaflow) (2.8.1)\n",
            "Requirement already satisfied: lazy-object-proxy>=1.4.0 in /usr/local/lib/python3.7/dist-packages (from astroid==2.5.6->pylint->metaflow) (1.6.0)\n",
            "Requirement already satisfied: wrapt<1.13,>=1.11 in /usr/local/lib/python3.7/dist-packages (from astroid==2.5.6->pylint->metaflow) (1.12.1)\n",
            "Requirement already satisfied: typed-ast<1.5,>=1.4.0; implementation_name == \"cpython\" and python_version < \"3.8\" in /usr/local/lib/python3.7/dist-packages (from astroid==2.5.6->pylint->metaflow) (1.4.3)\n",
            "Requirement already satisfied: six>=1.5 in /usr/local/lib/python3.7/dist-packages (from python-dateutil<3.0.0,>=2.1->botocore<1.21.0,>=1.20.88->boto3->metaflow) (1.15.0)\n"
          ],
          "name": "stdout"
        }
      ]
    },
    {
      "cell_type": "markdown",
      "metadata": {
        "id": "ZYpYb2Mq7Uf1"
      },
      "source": [
        "# Import Core Modules"
      ]
    },
    {
      "cell_type": "code",
      "metadata": {
        "id": "Mw2CWJS9MoxX"
      },
      "source": [
        "from language_conditioned_rl.tests.mountaincar import MountainCarTestCase"
      ],
      "execution_count": null,
      "outputs": []
    },
    {
      "cell_type": "code",
      "metadata": {
        "id": "_6f3JYmA7Wq0"
      },
      "source": [
        "from language_conditioned_rl.models.transformer import VanillaTransformer,MultiModalTransformer,SinusoidalPositionalEmbedding\n",
        "from language_conditioned_rl.models.cross_modal_attention import CrossModalAttentionWithMask, MultiModalAttentionBlock\n",
        "from language_conditioned_rl.models.reward_model import LGRPureContrastiveRewardLearner,DataAndOptimizerConf,LGRRewardOnlyHeadLearner\n",
        "from language_conditioned_rl.dataloaders.mountaincar.dataset import BertEmbedContrastiveTokenizedDataset,BertEmbedContrastiveTokenizedDatasetWithSentences\n",
        "import torch \n",
        "import pytorch_lightning as pl\n",
        "import torch.nn as nn \n",
        "import torch.nn.functional as F \n",
        "from torch.utils.data import Dataset,DataLoader\n",
        "import einops\n",
        "import zlib"
      ],
      "execution_count": null,
      "outputs": []
    },
    {
      "cell_type": "code",
      "metadata": {
        "id": "8uzOKOWLOsa2"
      },
      "source": [
        "import random \n",
        "from dataclasses import dataclass,field\n",
        "from typing import List\n",
        "from functools import partial\n",
        "import os\n",
        "import matplotlib.pyplot as plt\n",
        "import os\n",
        "import json\n",
        "import numpy as np\n",
        "import zlib\n",
        "import base64"
      ],
      "execution_count": null,
      "outputs": []
    },
    {
      "cell_type": "code",
      "metadata": {
        "id": "z7H-yHVudidf"
      },
      "source": [
        "from transformers import AutoModel,AutoTokenizer"
      ],
      "execution_count": null,
      "outputs": []
    },
    {
      "cell_type": "code",
      "metadata": {
        "id": "pC-o-ihvfVBW"
      },
      "source": [
        "import itertools\n",
        "import math\n",
        "import json\n",
        "from metaflow import parallel_map\n",
        "import pandas\n",
        "from matplotlib import pyplot as plt\n",
        "import numpy\n",
        "import os"
      ],
      "execution_count": null,
      "outputs": []
    },
    {
      "cell_type": "code",
      "metadata": {
        "id": "PAHspDPm9Cds"
      },
      "source": [
        "from language_conditioned_rl.models.transformer import OmniChannelTransformer,OmniTransformerCoreConfig,ChannelConfiguration,ChannelEmbeddingContinous,ChannelEmbeddingDiscrete,ChannelData\n",
        "from language_conditioned_rl.models.reward_model import LGROmniChannelRewardOnlyHeadLearner,RewardHeadWithOnlyBackbone"
      ],
      "execution_count": null,
      "outputs": []
    },
    {
      "cell_type": "code",
      "metadata": {
        "id": "NZlEUnwJPQ2J"
      },
      "source": [
        "from language_conditioned_rl.models.transformer import ImagePatchEmbedding,TextEmbeddingsPretrain"
      ],
      "execution_count": null,
      "outputs": []
    },
    {
      "cell_type": "code",
      "metadata": {
        "id": "ZOqsqHi8Mi7d"
      },
      "source": [
        "import torch\n",
        "from torchvision import transforms\n",
        "from PIL import Image\n",
        "from torch.nn.utils.rnn import pad_sequence"
      ],
      "execution_count": null,
      "outputs": []
    },
    {
      "cell_type": "code",
      "metadata": {
        "id": "9LEnjz1Ea26z"
      },
      "source": [
        "from language_conditioned_rl.dataloaders.robotics.datamaker import H5DataCreatorMainDataCreator,HDF5ContrastiveSetCreator\n",
        "from language_conditioned_rl.models.transformer import PRETRAINED_MODEL\n",
        "from transformers import AutoTokenizer\n",
        "import random\n",
        "from language_conditioned_rl.dataloaders.robotics.dataset import RandomPairwiseDataset,ContrastiveCollateFn,ContrastiveSampleGeneratedDataset\n",
        "from language_conditioned_rl.dataloaders.channel import ContrastiveGenerator\n",
        "from language_conditioned_rl.models.robotics.reward_model import LGRRoboRewardLearner"
      ],
      "execution_count": null,
      "outputs": []
    },
    {
      "cell_type": "code",
      "metadata": {
        "id": "VrjqQNcaOFiu"
      },
      "source": [],
      "execution_count": null,
      "outputs": []
    },
    {
      "cell_type": "markdown",
      "metadata": {
        "id": "4VfrsGvmCzku"
      },
      "source": [
        "# Configuration"
      ]
    },
    {
      "cell_type": "code",
      "metadata": {
        "id": "U410AWKDACOF"
      },
      "source": [
        "import gym\n",
        "PRETRAINED_MODEL = 'bert-base-uncased'\n",
        "MAX_TEXT_LENGTH = 25\n",
        "\n",
        "\n",
        "CONTENT_FRAC = 0.20\n",
        "BATCH_SIZE = 55\n",
        "WARMUP = 3000\n",
        "MAX_CYCLES = 10\n",
        "MAX_EPOCHS = 25\n",
        "LEARNING_RATE = 1e-4\n",
        "TOTAL_STEPS= MAX_EPOCHS * int(10000/BATCH_SIZE)\n",
        "NO_LR_SCHEDULER=True\n",
        "LR_SCHEDULER_INTERVAL='step'\n",
        "\n",
        "IMAGE_SIZE = (256,256)\n",
        "PATCH_SIZE = 64\n",
        "PATCH_EMBEDDING_DIMS = 128\n",
        "\n",
        "DISCRETE_EMBEDDING_SIZE=128\n",
        "MAX_TEXT_LENGTH = 30\n",
        "\n",
        "EPISODE_SAMPLES=30\n",
        "SENTENCE_PER_EPISODE=5\n",
        "SENTENCE_SAMPLE_BUFFER_SIZE = 100\n",
        "\n",
        "CONTINOUS_VALUE_DIMS = {\n",
        " 'joint_gripper_velocity': 1,\n",
        " 'joint_robot_position': 6,\n",
        " 'joint_robot_velocity': 6,\n",
        " 'tcp_angular_veloctiy': 3,\n",
        " 'tcp_linear_velocity': 3,\n",
        " 'tcp_orientation': 3,\n",
        " 'tcp_position': 3,\n",
        " 'tcp_target_orientation': 3,\n",
        " 'tcp_target_position': 3,\n",
        " }\n",
        "\n",
        "DISCRETE_CHANNELS = {\n",
        "     'joint_gripper' : True\n",
        " }\n",
        "NO_PAD_CHANNELS = {\n",
        "     'image': True,\n",
        "     'image_sequence':True\n",
        " }\n",
        "\n",
        "ALL_CHANNELS = [\n",
        "  'image_sequence',\n",
        "  'joint_gripper_velocity',\n",
        "  'joint_robot_position',\n",
        "  'joint_robot_velocity',\n",
        "  'tcp_angular_veloctiy',\n",
        "  'tcp_linear_velocity',\n",
        "  'tcp_orientation',\n",
        "  'tcp_position',\n",
        "  'tcp_target_orientation',\n",
        "  'tcp_target_position',\n",
        "  'image',\n",
        "  'text',\n",
        "  'joint_gripper',\n",
        "  'joint_combined_vector'\n",
        "  'final_target_coordinates',\n",
        "]\n",
        "\n",
        "USE_CHANNELS = [\n",
        "  # 'joint_robot_position',\n",
        "  # 'image_sequence',\n",
        "  'final_target_coordinates',\n",
        "  'text',\n",
        "  'tcp_position',\n",
        "  # 'joint_combined_vector'\n",
        "]\n",
        "EXPERIMENT_NAME= f'Video-OC-LGR-Robo-Pure-Contrastive'\n",
        "\n",
        "DATASET_NAME = f'{EXPERIMENT_NAME}-dataset-7'\n",
        "\n",
        "\n",
        "#NTXentLoss condds\n",
        "TEMPRATURE = 1.0\n",
        "EXPNUM = 1\n",
        "PROJECT_NAME = 'Language-Grounded-Rewards-Robo'\n",
        "\n",
        "\n",
        "TEST_EPISODE_SAMPLES=10\n",
        "TEST_SENTENCE_PER_EPISODE = 2\n",
        "\n",
        "# PAATH TO DAATA COMES HEERE> \n",
        "DATA_PTH = '/content/drive/MyDrive/ASU/Language-Rewards/NeurIPS-Dataset-Shortcut/NeurIPS-Dataset'\n",
        "DEMO_DS_FILE = 'demonstration.hdf5'\n",
        "META_SAVE_PTH = os.path.join(DATA_PTH,'chunk_meta')\n",
        "MAIN_META_PTH = os.path.join(DATA_PTH,'main_meta.csv')\n",
        "CORE_TRANSFORMER_PARAMS = dict(\n",
        "  #  if pooling_strategy == 'mean' then mean of all\n",
        "  pooling_strategy = 'mean',  # Can be 'cls' or 'mean'\n",
        "  num_layers=1,\\\n",
        "  transformer_embedding_size=512,\\\n",
        "  layer_norm_epsilon=0.00001,\\\n",
        "  scale=0.01,\\\n",
        "  resid_pdrop=0.1,\\\n",
        "  attn_pdrop=0.1,\\\n",
        "  num_heads = 2,\\\n",
        "  embd_pdrop=0.1,\n",
        ")"
      ],
      "execution_count": null,
      "outputs": []
    },
    {
      "cell_type": "code",
      "metadata": {
        "colab": {
          "base_uri": "https://localhost:8080/"
        },
        "id": "-yNKA1dzNGQI",
        "outputId": "d1316537-c114-4df6-b55c-7b4bcba557f7"
      },
      "source": [
        "DATASET_NAME"
      ],
      "execution_count": null,
      "outputs": [
        {
          "output_type": "execute_result",
          "data": {
            "application/vnd.google.colaboratory.intrinsic+json": {
              "type": "string"
            },
            "text/plain": [
              "'Video-OC-LGR-Robo-Pure-Contrastive-dataset-7'"
            ]
          },
          "metadata": {
            "tags": []
          },
          "execution_count": 11
        }
      ]
    },
    {
      "cell_type": "markdown",
      "metadata": {
        "id": "R9CSoeRU-svP"
      },
      "source": [
        "# Pytorch Dataloader"
      ]
    },
    {
      "cell_type": "code",
      "metadata": {
        "id": "AM_W0lgvPvjq"
      },
      "source": [
        "from language_conditioned_rl.dataloaders.robotics.datamaker import SampleContrastingRule,PickingNoisyContrastRule,SameObjectPouringIntensityRule,PouringShapeSizeContrast,PickingObjectContrastingRule,ContrastingActionsRule,OBJECT_IDENTIFIERS,FORBIDDEN_SENTENCES"
      ],
      "execution_count": null,
      "outputs": []
    },
    {
      "cell_type": "code",
      "metadata": {
        "id": "zuCkWZ9zQSDe"
      },
      "source": [
        "from language_conditioned_rl.dataloaders.robotics.contrastive_dataset import SentenceContrastiveDataset,TaskBasedSentenceContrastiveDataset,JointsChannelsConcatDataset"
      ],
      "execution_count": null,
      "outputs": []
    },
    {
      "cell_type": "code",
      "metadata": {
        "id": "Y75EMyPmQ_a2"
      },
      "source": [
        "from typing import List,Tuple"
      ],
      "execution_count": null,
      "outputs": []
    },
    {
      "cell_type": "code",
      "metadata": {
        "id": "AtSFwyetTFh5"
      },
      "source": [
        "# RULES = [SameObjectPouringIntensityRule(),PouringShapeSizeContrast(),PickingObjectContrastingRule(),ContrastingActionsRule()]\n",
        "RULES = [PickingNoisyContrastRule(),PickingObjectContrastingRule()]\n",
        "# Set ruules over here to create the contrastive samples. "
      ],
      "execution_count": null,
      "outputs": []
    },
    {
      "cell_type": "code",
      "metadata": {
        "id": "u1_bAOCslEp6"
      },
      "source": [
        "RULE_DISTRIBUTION = [80,20]"
      ],
      "execution_count": null,
      "outputs": []
    },
    {
      "cell_type": "code",
      "metadata": {
        "id": "g6r-dyivbg2T"
      },
      "source": [
        "# TRAIN_RULES = [PouringShapeSizeContrast(),PickingObjectContrastingRule()]\n",
        "TRAIN_RULES = RULES#[PickingObjectContrastingRule()]"
      ],
      "execution_count": null,
      "outputs": []
    },
    {
      "cell_type": "code",
      "metadata": {
        "id": "5iPl_a4IfmOH",
        "colab": {
          "base_uri": "https://localhost:8080/"
        },
        "outputId": "b80b0970-0a29-4439-c892-ec05bc60e8ea"
      },
      "source": [
        "USE_CHANNELS"
      ],
      "execution_count": null,
      "outputs": [
        {
          "output_type": "execute_result",
          "data": {
            "text/plain": [
              "['final_target_coordinates', 'text', 'tcp_position']"
            ]
          },
          "metadata": {
            "tags": []
          },
          "execution_count": 18
        }
      ]
    },
    {
      "cell_type": "code",
      "metadata": {
        "id": "zTYJAP8yQcGP",
        "colab": {
          "base_uri": "https://localhost:8080/"
        },
        "outputId": "6614f70f-fa51-4ac9-afd8-b5ca51ffb786"
      },
      "source": [
        "dataset = JointsChannelsConcatDataset(\n",
        "    DATASET_NAME,\\\n",
        "    normalize_images=True,\\\n",
        "    use_channels=USE_CHANNELS,\n",
        ")"
      ],
      "execution_count": null,
      "outputs": [
        {
          "output_type": "stream",
          "text": [
            "\n",
            "            Dataset Loaded \n",
            "\n",
            "            Data Set Contains information from the Following Rules : \n",
            "\n",
            "            PickingObjectContrastingRule, PickingNoisyContrastRule\n",
            "            Used Originally Stored Indices : True\n",
            "            \n"
          ],
          "name": "stdout"
        }
      ]
    },
    {
      "cell_type": "code",
      "metadata": {
        "id": "bfDVkeSTRO84"
      },
      "source": [
        "dataset.remake_indices(300000,\\\n",
        "    rules=TRAIN_RULES,\\\n",
        "    rule_distribution=RULE_DISTRIBUTION,\\\n",
        ")"
      ],
      "execution_count": null,
      "outputs": []
    },
    {
      "cell_type": "code",
      "metadata": {
        "id": "fPa4XNdXej9q",
        "colab": {
          "base_uri": "https://localhost:8080/"
        },
        "outputId": "5267eb61-80bd-4b87-b090-d61eee8aff40"
      },
      "source": [
        "BATCH_SIZE"
      ],
      "execution_count": null,
      "outputs": [
        {
          "output_type": "execute_result",
          "data": {
            "text/plain": [
              "55"
            ]
          },
          "metadata": {
            "tags": []
          },
          "execution_count": 25
        }
      ]
    },
    {
      "cell_type": "code",
      "metadata": {
        "id": "tFa4WqL0R1xo"
      },
      "source": [
        "robo_ds = dataset"
      ],
      "execution_count": null,
      "outputs": []
    },
    {
      "cell_type": "code",
      "metadata": {
        "id": "yST16GgOJKxj",
        "colab": {
          "base_uri": "https://localhost:8080/"
        },
        "outputId": "4ac41e5c-fe03-468a-8f42-fbc86b8bbe21"
      },
      "source": [
        "len(robo_ds)"
      ],
      "execution_count": null,
      "outputs": [
        {
          "output_type": "execute_result",
          "data": {
            "text/plain": [
              "296237"
            ]
          },
          "metadata": {
            "tags": []
          },
          "execution_count": 27
        }
      ]
    },
    {
      "cell_type": "code",
      "metadata": {
        "id": "dGQkB1f1_3_8"
      },
      "source": [
        "# rrds = RandomPairwiseDataset(DEMO_DS_FILE)\n",
        "# rrdsloader = DataLoader(rrds,batch_size=BATCH_SIZE,collate_fn=ContrastiveCollateFn(),num_workers=0,shuffle=True)\n",
        "roboloader = DataLoader(robo_ds,batch_size=BATCH_SIZE,collate_fn=dataset.collate_fn(),num_workers=0,shuffle=True,drop_last=True)"
      ],
      "execution_count": null,
      "outputs": []
    },
    {
      "cell_type": "code",
      "metadata": {
        "colab": {
          "base_uri": "https://localhost:8080/"
        },
        "id": "ywenNKH6uyBc",
        "outputId": "f5b51d10-8b6a-424b-b65f-43beff9ef4de"
      },
      "source": [
        "%time zt = next(iter(roboloader))"
      ],
      "execution_count": null,
      "outputs": [
        {
          "output_type": "stream",
          "text": [
            "CPU times: user 62.3 ms, sys: 5.02 ms, total: 67.3 ms\n",
            "Wall time: 38.2 ms\n"
          ],
          "name": "stdout"
        }
      ]
    },
    {
      "cell_type": "markdown",
      "metadata": {
        "id": "qdFDMLDWfSiU"
      },
      "source": [
        "# Multi-task Transformer"
      ]
    },
    {
      "cell_type": "code",
      "metadata": {
        "id": "lrCTmRf6ksHV"
      },
      "source": [
        "from language_conditioned_rl.models.robotics.reward_model import LGRMulitTaskRoboRewardLearner"
      ],
      "execution_count": null,
      "outputs": []
    },
    {
      "cell_type": "code",
      "metadata": {
        "id": "BM9Ykz7bfUxm"
      },
      "source": [],
      "execution_count": null,
      "outputs": []
    },
    {
      "cell_type": "markdown",
      "metadata": {
        "id": "9uTcoSs-QAjK"
      },
      "source": [
        "# Tranformer Initialisation"
      ]
    },
    {
      "cell_type": "code",
      "metadata": {
        "id": "Smqxb2smSDCU"
      },
      "source": [
        "\n",
        "def NEPUTUNE_JSON_FIXER(json_str):\n",
        "    return json.loads(json_str.replace(\"'\",'\"').replace('None','null').replace('True','true').replace('False','false'))\n"
      ],
      "execution_count": null,
      "outputs": []
    },
    {
      "cell_type": "code",
      "metadata": {
        "id": "GqgEv0iDR9wy"
      },
      "source": [
        "def from_neptune(project_name,\n",
        "                experiment_name,\n",
        "                checkpoint_path, base_path='model_checkpoints/',\n",
        "                api_token=None,):\n",
        "  import neptune\n",
        "  import os\n",
        "  import json\n",
        "  if api_token is None:\n",
        "      raise Exception(\"API Token Missing\")\n",
        "\n",
        "  project = neptune.init(project_name,\n",
        "                          api_token=api_token\n",
        "                          )\n",
        "  my_exp = project.get_experiments(id=experiment_name)[0]\n",
        "  my_exp.download_artifact(checkpoint_path, destination_dir=base_path)\n",
        "  ckck_name = checkpoint_path.split('/')[1]\n",
        "  checkpoint = torch.load(os.path.join(\n",
        "      base_path, ckck_name), map_location=torch.device('cpu'))\n",
        "\n",
        "  return checkpoint"
      ],
      "execution_count": null,
      "outputs": []
    },
    {
      "cell_type": "code",
      "metadata": {
        "id": "kGUc91BlSHrG"
      },
      "source": [],
      "execution_count": null,
      "outputs": []
    },
    {
      "cell_type": "code",
      "metadata": {
        "id": "_o7uyeDJOO_f"
      },
      "source": [
        "from language_conditioned_rl.models.robotics.reward_model import make_model as MakeRobotModel"
      ],
      "execution_count": null,
      "outputs": []
    },
    {
      "cell_type": "code",
      "metadata": {
        "id": "tR3tBYlrQY0M"
      },
      "source": [
        "data_params = DataAndOptimizerConf(\n",
        "    NUM_TRAIN_SAMPLES = len(robo_ds),\n",
        "    BATCH_SIZE = BATCH_SIZE,\n",
        "    MAX_CYCLES = MAX_CYCLES,\n",
        "    MAX_EPOCHS = MAX_EPOCHS,\n",
        "    LEARNING_RATE = LEARNING_RATE,\n",
        "    NO_LR_SCHEDULER=NO_LR_SCHEDULER,\n",
        "    LR_SCHEDULER_FREQUENCY=LR_SCHEDULER_INTERVAL,\n",
        "    WARMUP=WARMUP,\n",
        "    TOTAL_STEPS =TOTAL_STEPS\n",
        ")"
      ],
      "execution_count": null,
      "outputs": []
    },
    {
      "cell_type": "code",
      "metadata": {
        "id": "ViQ77A_VTZWQ"
      },
      "source": [],
      "execution_count": null,
      "outputs": []
    },
    {
      "cell_type": "code",
      "metadata": {
        "id": "C-Xaf3ndQoit",
        "colab": {
          "base_uri": "https://localhost:8080/"
        },
        "outputId": "c93c9566-c053-4686-ce23-9e44195efbdf"
      },
      "source": [
        "# trans = LGRRoboRewardLearner(transformer_config,data_params=data_params)\n",
        "trans = MakeRobotModel(\n",
        "    use_channels=USE_CHANNELS,\n",
        "    CORE_TRANSFORMER_PARAMETERS=CORE_TRANSFORMER_PARAMS,\n",
        "    dataparams=data_params,\n",
        "    is_multitask=False,\n",
        "    is_pc_grad=False,\n",
        "    channel_embed_size=DISCRETE_EMBEDDING_SIZE,\n",
        "    patch_embed_size=PATCH_EMBEDDING_DIMS,\n",
        "    patch_size=PATCH_SIZE,\n",
        ")"
      ],
      "execution_count": null,
      "outputs": [
        {
          "output_type": "stream",
          "text": [
            "Some weights of the model checkpoint at bert-base-uncased were not used when initializing BertModel: ['cls.predictions.transform.dense.bias', 'cls.seq_relationship.bias', 'cls.predictions.bias', 'cls.predictions.transform.dense.weight', 'cls.seq_relationship.weight', 'cls.predictions.decoder.weight', 'cls.predictions.transform.LayerNorm.weight', 'cls.predictions.transform.LayerNorm.bias']\n",
            "- This IS expected if you are initializing BertModel from the checkpoint of a model trained on another task or with another architecture (e.g. initializing a BertForSequenceClassification model from a BertForPreTraining model).\n",
            "- This IS NOT expected if you are initializing BertModel from the checkpoint of a model that you expect to be exactly identical (initializing a BertForSequenceClassification model from a BertForSequenceClassification model).\n"
          ],
          "name": "stderr"
        }
      ]
    },
    {
      "cell_type": "code",
      "metadata": {
        "id": "EgPysjWJijiE",
        "colab": {
          "base_uri": "https://localhost:8080/"
        },
        "outputId": "e00e26ea-51ef-4dab-bb2c-43b85c20c874"
      },
      "source": [
        "DISCRETE_EMBEDDING_SIZE"
      ],
      "execution_count": null,
      "outputs": [
        {
          "output_type": "execute_result",
          "data": {
            "text/plain": [
              "128"
            ]
          },
          "metadata": {
            "tags": []
          },
          "execution_count": 39
        }
      ]
    },
    {
      "cell_type": "code",
      "metadata": {
        "colab": {
          "base_uri": "https://localhost:8080/"
        },
        "id": "_tSVM7MfDa5r",
        "outputId": "4e33626f-6c4a-4e4d-a7b5-831907c39bad"
      },
      "source": [
        "trans.model.channel_routes"
      ],
      "execution_count": null,
      "outputs": [
        {
          "output_type": "execute_result",
          "data": {
            "text/plain": [
              "{'final_target_coordinates': ['text', 'tcp_position'],\n",
              " 'tcp_position': ['text'],\n",
              " 'text': ['tcp_position', 'final_target_coordinates']}"
            ]
          },
          "metadata": {
            "tags": []
          },
          "execution_count": 40
        }
      ]
    },
    {
      "cell_type": "code",
      "metadata": {
        "id": "1Is1bf_sQfKQ"
      },
      "source": [
        "# ptx = trans.model.tcp_position__1dcov(ttx.pos_channel_holder.tcp_position.sequence) #image_sequence__embedding.to_patch_embedding(ttx.pos_channel_holder.image_sequence.sequence)"
      ],
      "execution_count": null,
      "outputs": []
    },
    {
      "cell_type": "code",
      "metadata": {
        "id": "LCkDILsUF9tf"
      },
      "source": [
        "# ptx.shape"
      ],
      "execution_count": null,
      "outputs": []
    },
    {
      "cell_type": "markdown",
      "metadata": {
        "id": "rT0ae6ZUZqTH"
      },
      "source": [
        "# Training"
      ]
    },
    {
      "cell_type": "code",
      "metadata": {
        "id": "4GV2NmrIYT5K"
      },
      "source": [
        "MAX_EPOCHS = 400"
      ],
      "execution_count": null,
      "outputs": []
    },
    {
      "cell_type": "code",
      "metadata": {
        "id": "ev3NwblTTx0W"
      },
      "source": [
        "# Add Neptune AAPI Key Here\n",
        "API_KEY = None\n",
        "# proj = f'valay/{PROJECT_NAME}'\n",
        "proj = None"
      ],
      "execution_count": null,
      "outputs": []
    },
    {
      "cell_type": "code",
      "metadata": {
        "colab": {
          "base_uri": "https://localhost:8080/"
        },
        "id": "7uIdEBmdEUR_",
        "outputId": "45cd9cff-d8fc-428f-b96a-6009bbfb7a58"
      },
      "source": [
        "from pytorch_lightning.loggers import NeptuneLogger\n",
        "\n",
        "NOTE = f'''\n",
        "Using Video Dataset\n",
        "\n",
        "Rules : {', '.join(list(set(dataset.indices_rules))) }\n",
        "\n",
        "Normalized Images and Multi-task based loss setup. \n",
        "\n",
        "Smaller Trajectories. \n",
        "\n",
        "Using Direct Objects and tcp trajectory\n",
        "\n",
        "Added Noisy Trajectories too\n",
        "'''\n",
        "logger_config_added_options = dict(\n",
        "    BATCH_SIZE = BATCH_SIZE,\n",
        "    WARMUP = data_params.WARMUP,\n",
        "    MAX_CYCLES = MAX_CYCLES,\n",
        "    MAX_EPOCHS = MAX_EPOCHS,\n",
        "    LEARNING_RATE = LEARNING_RATE,\n",
        "    TRAIN_SAMPLE_SIZE=str(data_params.NUM_TRAIN_SAMPLES),\n",
        "    MODEL_NAME=trans._get_name(),\n",
        "    NO_LR_SCHEDULER=NO_LR_SCHEDULER,\n",
        "    TOTAL_STEPS=TOTAL_STEPS,\n",
        "    channel_configurations = [c.to_json() for c in trans.model.config.channel_configurations]\n",
        ")\n",
        "\n",
        "neptune_logger = NeptuneLogger(experiment_name=EXPERIMENT_NAME,\n",
        "                             project_name=proj,\n",
        "                             api_key = API_KEY,\n",
        "                             params={**CORE_TRANSFORMER_PARAMS,**logger_config_added_options,'transformer_params':CORE_TRANSFORMER_PARAMS,'data_params':logger_config_added_options},\n",
        "                             description=NOTE)"
      ],
      "execution_count": null,
      "outputs": [
        {
          "output_type": "stream",
          "text": [
            "NeptuneLogger will work in online mode\n"
          ],
          "name": "stderr"
        }
      ]
    },
    {
      "cell_type": "code",
      "metadata": {
        "colab": {
          "base_uri": "https://localhost:8080/",
          "height": 53
        },
        "id": "6eVp4i5Kb2X5",
        "outputId": "bae74b02-ca2b-4967-ab2c-9595ea9bdcbe"
      },
      "source": [
        "NOTE"
      ],
      "execution_count": null,
      "outputs": [
        {
          "output_type": "execute_result",
          "data": {
            "application/vnd.google.colaboratory.intrinsic+json": {
              "type": "string"
            },
            "text/plain": [
              "'\\nUsing Video Dataset\\n\\nRules : PickingObjectContrastingRule, PickingNoisyContrastRule\\n\\nNormalized Images and Multi-task based loss setup. \\n\\nSmaller Trajectories. \\n\\nUsing Direct Objects and tcp trajectory\\n\\nAdded Noisy Trajectories too\\n'"
            ]
          },
          "metadata": {
            "tags": []
          },
          "execution_count": 49
        }
      ]
    },
    {
      "cell_type": "code",
      "metadata": {
        "id": "Kgx229zsZKqC",
        "colab": {
          "base_uri": "https://localhost:8080/"
        },
        "outputId": "aff008e5-7ecb-4bca-8f23-2a6b4a5f85e6"
      },
      "source": [
        "# neptune_logger.experiment_id\n",
        "pl.trainer.seed_everything(42)"
      ],
      "execution_count": null,
      "outputs": [
        {
          "output_type": "stream",
          "text": [
            "Global seed set to 42\n"
          ],
          "name": "stderr"
        },
        {
          "output_type": "execute_result",
          "data": {
            "text/plain": [
              "42"
            ]
          },
          "metadata": {
            "tags": []
          },
          "execution_count": 50
        }
      ]
    },
    {
      "cell_type": "code",
      "metadata": {
        "colab": {
          "base_uri": "https://localhost:8080/",
          "height": 1000,
          "referenced_widgets": [
            "92ff2b3d46be41c687b6ebaacc3a2b12",
            "1698ce603eee4841be074e544dddee81",
            "ccdc404d2dd94f6d922da1bb48a2f293",
            "cfddde2ba20f4f5e814d86d7ad64b7f1",
            "6ab68b6995834b45a2a434247cd88a8c",
            "5d7783a4bb114a0db29478f42d32203e",
            "5b74cd7125184a3c9e824004f3a26f4f",
            "d5a439b9b5f8442884a67965faf2c90e",
            "25c68beb388b48e8a62dc343ac2a4c40",
            "5a0d8fd2f5f34b0998d5db3f5cfa1362",
            "4b0c1c4ce64f4bada89801cb97ace4a3",
            "e41cb5932cd8485e88243093f0315129",
            "0c41caea796a417a93b930aad85da0a7",
            "12debfc9dfe0406baa734378a2fcd10d",
            "4d53b23ec6424220a174bed6c9369467",
            "7f066db9cf044877a5d70a29f8ba1caf"
          ]
        },
        "id": "fy5wiwmLQUXC",
        "outputId": "5f8e4705-80f1-4d20-9181-2885ccc98795"
      },
      "source": [
        "# NUM_TRAIN_SAMPLES = len(tr)\n",
        "from pytorch_lightning import Trainer\n",
        "from pytorch_lightning.callbacks import ModelCheckpoint\n",
        "from pytorch_lightning.callbacks import LearningRateMonitor\n",
        "lr_logger = LearningRateMonitor(logging_interval='step')\n",
        "model_checkpoint = ModelCheckpoint(filename='model/checkpoints/{epoch:02d}-{loss:.2f}',\n",
        "                                   save_weights_only=True,\n",
        "                                   save_top_k=3,\n",
        "                                   monitor='loss',\n",
        "                                   period=1)\n",
        "trainer = Trainer(\n",
        "    max_epochs=MAX_EPOCHS,\\\n",
        "    progress_bar_refresh_rate=25,\\\n",
        "    gpus=1,\\\n",
        "    logger=neptune_logger,\n",
        "    callbacks=[lr_logger],\n",
        "    checkpoint_callback=model_checkpoint\n",
        ")\n",
        "\n",
        "trainer.fit(trans, roboloader)"
      ],
      "execution_count": null,
      "outputs": [
        {
          "output_type": "stream",
          "text": [
            "GPU available: True, used: True\n",
            "TPU available: None, using: 0 TPU cores\n",
            "/usr/local/lib/python3.7/dist-packages/pytorch_lightning/utilities/distributed.py:52: UserWarning: you defined a validation_step but have no val_dataloader. Skipping validation loop\n",
            "  warnings.warn(*args, **kwargs)\n",
            "LOCAL_RANK: 0 - CUDA_VISIBLE_DEVICES: [0]\n"
          ],
          "name": "stderr"
        },
        {
          "output_type": "stream",
          "text": [
            "https://ui.neptune.ai/valay/Language-Grounded-Rewards-Robo/e/LRO-146\n"
          ],
          "name": "stdout"
        },
        {
          "output_type": "stream",
          "text": [
            "\n",
            "  | Name             | Type                       | Params\n",
            "----------------------------------------------------------------\n",
            "0 | model            | OmniChannelTransformer     | 81.1 M\n",
            "1 | sfmx             | Softmax                    | 0     \n",
            "2 | log_sigmoid      | LogSigmoid                 | 0     \n",
            "3 | reward_predictor | RewardHeadWithOnlyBackbone | 1.3 M \n",
            "4 | cross_entropy    | CrossEntropyLoss           | 0     \n",
            "----------------------------------------------------------------\n",
            "58.9 M    Trainable params\n",
            "23.4 M    Non-trainable params\n",
            "82.4 M    Total params\n",
            "329.474   Total estimated model params size (MB)\n"
          ],
          "name": "stderr"
        },
        {
          "output_type": "display_data",
          "data": {
            "application/vnd.jupyter.widget-view+json": {
              "model_id": "92ff2b3d46be41c687b6ebaacc3a2b12",
              "version_major": 2,
              "version_minor": 0
            },
            "text/plain": [
              "HBox(children=(FloatProgress(value=1.0, bar_style='info', description='Validation sanity check', layout=Layout…"
            ]
          },
          "metadata": {
            "tags": []
          }
        },
        {
          "output_type": "stream",
          "text": [
            "\r"
          ],
          "name": "stdout"
        },
        {
          "output_type": "stream",
          "text": [
            "/usr/local/lib/python3.7/dist-packages/pytorch_lightning/utilities/distributed.py:52: UserWarning: The dataloader, train dataloader, does not have many workers which may be a bottleneck. Consider increasing the value of the `num_workers` argument` (try 4 which is the number of cpus on this machine) in the `DataLoader` init to improve performance.\n",
            "  warnings.warn(*args, **kwargs)\n",
            "/usr/local/lib/python3.7/dist-packages/pytorch_lightning/utilities/distributed.py:52: RuntimeWarning: You are using `LearningRateMonitor` callback with models that have no learning rate schedulers. Please see documentation for `configure_optimizers` method.\n",
            "  warnings.warn(*args, **kwargs)\n"
          ],
          "name": "stderr"
        },
        {
          "output_type": "display_data",
          "data": {
            "application/vnd.jupyter.widget-view+json": {
              "model_id": "25c68beb388b48e8a62dc343ac2a4c40",
              "version_major": 2,
              "version_minor": 0
            },
            "text/plain": [
              "HBox(children=(FloatProgress(value=1.0, bar_style='info', description='Training', layout=Layout(flex='2'), max…"
            ]
          },
          "metadata": {
            "tags": []
          }
        },
        {
          "output_type": "stream",
          "text": [
            "/usr/local/lib/python3.7/dist-packages/language_conditioned_rl/models/embeddings.py:20: UserWarning: The number of elements in the out tensor of shape [26] is 26 which does not match the computed number of elements 481. Note that this may occur as a result of rounding error. The out tensor will be resized to a tensor of shape (481,). (Triggered internally at  /pytorch/aten/src/ATen/native/cuda/RangeFactories.cu:263.)\n",
            "  torch.arange(padding_idx + 1, max_pos, out=getattr(make_positions, buf_name))\n",
            "Unexpected error in ping thread.\n",
            "Traceback (most recent call last):\n",
            "  File \"/usr/local/lib/python3.7/dist-packages/neptune/internal/threads/ping_thread.py\", line 37, in run\n",
            "    self.__backend.ping_experiment(self.__experiment)\n",
            "  File \"/usr/local/lib/python3.7/dist-packages/neptune/internal/api_clients/hosted_api_clients/hosted_alpha_leaderboard_api_client.py\", line 391, in ping_experiment\n",
            "    self.leaderboard_swagger_client.api.ping(experimentId=str(experiment.internal_id)).response().result\n",
            "  File \"/usr/local/lib/python3.7/dist-packages/bravado/http_future.py\", line 239, in response\n",
            "    six.reraise(*sys.exc_info())\n",
            "  File \"/usr/local/lib/python3.7/dist-packages/six.py\", line 703, in reraise\n",
            "    raise value\n",
            "  File \"/usr/local/lib/python3.7/dist-packages/bravado/http_future.py\", line 200, in response\n",
            "    swagger_result = self._get_swagger_result(incoming_response)\n",
            "  File \"/usr/local/lib/python3.7/dist-packages/bravado/http_future.py\", line 124, in wrapper\n",
            "    return func(self, *args, **kwargs)\n",
            "  File \"/usr/local/lib/python3.7/dist-packages/bravado/http_future.py\", line 303, in _get_swagger_result\n",
            "    self.request_config.response_callbacks,\n",
            "  File \"/usr/local/lib/python3.7/dist-packages/bravado/http_future.py\", line 334, in unmarshal_response\n",
            "    raise_on_unexpected(incoming_response)\n",
            "  File \"/usr/local/lib/python3.7/dist-packages/bravado/http_future.py\", line 408, in raise_on_unexpected\n",
            "    raise make_http_exception(response=http_response)\n",
            "bravado.exception.HTTPServiceUnavailable: 503 : {\"code\":503,\"errorType\":\"SERVICE_UNAVAILABLE\",\"title\":\"Service is not available. Try again later.\"}\n",
            "Unexpected error in ping thread.\n",
            "Traceback (most recent call last):\n",
            "  File \"/usr/local/lib/python3.7/dist-packages/neptune/internal/threads/ping_thread.py\", line 37, in run\n",
            "    self.__backend.ping_experiment(self.__experiment)\n",
            "  File \"/usr/local/lib/python3.7/dist-packages/neptune/internal/api_clients/hosted_api_clients/hosted_alpha_leaderboard_api_client.py\", line 391, in ping_experiment\n",
            "    self.leaderboard_swagger_client.api.ping(experimentId=str(experiment.internal_id)).response().result\n",
            "  File \"/usr/local/lib/python3.7/dist-packages/bravado/http_future.py\", line 239, in response\n",
            "    six.reraise(*sys.exc_info())\n",
            "  File \"/usr/local/lib/python3.7/dist-packages/six.py\", line 703, in reraise\n",
            "    raise value\n",
            "  File \"/usr/local/lib/python3.7/dist-packages/bravado/http_future.py\", line 200, in response\n",
            "    swagger_result = self._get_swagger_result(incoming_response)\n",
            "  File \"/usr/local/lib/python3.7/dist-packages/bravado/http_future.py\", line 124, in wrapper\n",
            "    return func(self, *args, **kwargs)\n",
            "  File \"/usr/local/lib/python3.7/dist-packages/bravado/http_future.py\", line 303, in _get_swagger_result\n",
            "    self.request_config.response_callbacks,\n",
            "  File \"/usr/local/lib/python3.7/dist-packages/bravado/http_future.py\", line 334, in unmarshal_response\n",
            "    raise_on_unexpected(incoming_response)\n",
            "  File \"/usr/local/lib/python3.7/dist-packages/bravado/http_future.py\", line 408, in raise_on_unexpected\n",
            "    raise make_http_exception(response=http_response)\n",
            "bravado.exception.HTTPServiceUnavailable: 503 : {\"errorType\":\"SERVICE_UNAVAILABLE\",\"code\":503,\"title\":\"Service is not available. Try again later.\"}\n"
          ],
          "name": "stderr"
        }
      ]
    },
    {
      "cell_type": "markdown",
      "metadata": {
        "id": "gS5QqoxCsKFg"
      },
      "source": [
        "# Testing"
      ]
    },
    {
      "cell_type": "code",
      "metadata": {
        "id": "ze1o1OQ60Bjn"
      },
      "source": [
        "RULES = [PickingNoisyContrastRule(),PickingObjectContrastingRule()]"
      ],
      "execution_count": null,
      "outputs": []
    },
    {
      "cell_type": "code",
      "metadata": {
        "id": "1nojgdOW1TxM"
      },
      "source": [
        "from language_conditioned_rl.tests.robotics import save_test_data,run_test_pipeline,plot_test_case_results,save_json_to_file,RoboTestDataset"
      ],
      "execution_count": null,
      "outputs": []
    },
    {
      "cell_type": "code",
      "metadata": {
        "colab": {
          "base_uri": "https://localhost:8080/"
        },
        "id": "KO0GNymLPriO",
        "outputId": "32988abc-4d4f-43d1-a0ec-f95dcbf27996"
      },
      "source": [
        "rtds = RoboTestDataset(DATASET_NAME,use_channels=USE_CHANNELS,size=100)\n",
        "rtds.remake_indices(size=100,rules=RULES)\n",
        "return_object = run_test_pipeline(\n",
        "        trans,\n",
        "        dataset=rtds,\n",
        "        batch_size=20,\n",
        "    )"
      ],
      "execution_count": null,
      "outputs": [
        {
          "output_type": "stream",
          "text": [
            "\n",
            "            Dataset Loaded \n",
            "\n",
            "            Data Set Contains information from the Following Rules : \n",
            "\n",
            "            PickingObjectContrastingRule, PickingNoisyContrastRule\n",
            "            Used Originally Stored Indices : False\n",
            "            \n"
          ],
          "name": "stdout"
        }
      ]
    },
    {
      "cell_type": "code",
      "metadata": {
        "id": "zknKeuFZz7wM"
      },
      "source": [
        "# return_object"
      ],
      "execution_count": null,
      "outputs": []
    },
    {
      "cell_type": "code",
      "metadata": {
        "id": "SSW1t1yhgXEE",
        "colab": {
          "base_uri": "https://localhost:8080/",
          "height": 1000
        },
        "outputId": "adab34f8-820c-4efa-a995-a9ca6ce35627"
      },
      "source": [
        "PLT_NAME = 'robo-reward-dist.pdf'\n",
        "FILE_SAVE_NAME = 'model_results.csv'\n",
        "plot_test_case_results(\n",
        "    return_object,show=True,rule_map={r.rule_name:r.rule_map for r in RULES},plt_name=PLT_NAME\n",
        ")"
      ],
      "execution_count": null,
      "outputs": [
        {
          "output_type": "display_data",
          "data": {
            "image/png": "[encoded data removed]",
            "text/plain": [
              "<Figure size 2160x2160 with 2 Axes>"
            ]
          },
          "metadata": {
            "tags": [],
            "needs_background": "light"
          }
        }
      ]
    },
    {
      "cell_type": "code",
      "metadata": {
        "id": "lmFu3a7Bq5Ep"
      },
      "source": [
        "neptune_logger.experiment.log_artifact(PLT_NAME)\n",
        "pandas.DataFrame(return_object).to_csv(FILE_SAVE_NAME)\n",
        "neptune_logger.experiment.log_artifact(FILE_SAVE_NAME)"
      ],
      "execution_count": null,
      "outputs": []
    },
    {
      "cell_type": "code",
      "metadata": {
        "id": "6hPBp5UUq68_"
      },
      "source": [
        "last_model_save_pth =os.path.join(model_checkpoint.best_model_path,'last.pt')\n",
        "trainer.save_checkpoint(last_model_save_pth)\n",
        "model_name = 'checkpoints/last.pt'\n",
        "neptune_logger.experiment.log_artifact(last_model_save_pth, model_name)\n"
      ],
      "execution_count": null,
      "outputs": []
    }
  ]
}